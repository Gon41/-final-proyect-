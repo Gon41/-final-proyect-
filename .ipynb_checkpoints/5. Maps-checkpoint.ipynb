{
 "cells": [
  {
   "cell_type": "code",
   "execution_count": 178,
   "metadata": {},
   "outputs": [],
   "source": [
    "import folium\n",
    "import pandas as pd\n",
    "from folium.plugins import MeasureControl"
   ]
  },
  {
   "cell_type": "code",
   "execution_count": 179,
   "metadata": {},
   "outputs": [],
   "source": [
    "puerta_del_sol = [40.4146500,-3.7004000]\n",
    "airbnb = [40.45724,-3.67688]"
   ]
  },
  {
   "cell_type": "code",
   "execution_count": 195,
   "metadata": {},
   "outputs": [
    {
     "data": {
      "text/html": [
       "<div style=\"width:100%;\"><div style=\"position:relative;width:100%;height:0;padding-bottom:60%;\"><span style=\"color:#565656\">Make this Notebook Trusted to load map: File -> Trust Notebook</span><iframe src=\"about:blank\" style=\"position:absolute;width:100%;height:100%;left:0;top:0;border:none !important;\" data-html=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 onload=\"this.contentDocument.open();this.contentDocument.write(atob(this.getAttribute('data-html')));this.contentDocument.close();\" allowfullscreen webkitallowfullscreen mozallowfullscreen></iframe></div></div>"
      ],
      "text/plain": [
       "<folium.folium.Map at 0x261ab22cf40>"
      ]
     },
     "execution_count": 195,
     "metadata": {},
     "output_type": "execute_result"
    }
   ],
   "source": [
    "# Creo el mapa\n",
    "\n",
    "map1 = folium.Map(location=(puerta_del_sol),tiles='Stamen Terrain',zoom_start=12)    \n",
    "\n",
    "marker1 = folium.Marker(location=(puerta_del_sol), popup=\"Puerta del Sol\", icon = folium.Icon(icon='flag', color= \"red\", prefix='fa')).add_to(map1)\n",
    "\n",
    "marker3 = folium.Marker(location=(airbnb), popup=\"AirBnB\", icon = folium.Icon(icon='home', color= \"green\", prefix='fa')).add_to(map1)   \n",
    "\n",
    "\n",
    "map1"
   ]
  },
  {
   "cell_type": "code",
   "execution_count": 188,
   "metadata": {},
   "outputs": [
    {
     "ename": "SyntaxError",
     "evalue": "invalid syntax (<ipython-input-188-c52def7be8d5>, line 7)",
     "output_type": "error",
     "traceback": [
      "\u001b[1;36m  File \u001b[1;32m\"<ipython-input-188-c52def7be8d5>\"\u001b[1;36m, line \u001b[1;32m7\u001b[0m\n\u001b[1;33m    map1 = folium.Map(location=(puerta_del_sol),\u001b[0m\n\u001b[1;37m    ^\u001b[0m\n\u001b[1;31mSyntaxError\u001b[0m\u001b[1;31m:\u001b[0m invalid syntax\n"
     ]
    }
   ],
   "source": [
    "def pintar_mapa(lat,long):\n",
    "    \n",
    "    airbnb = [lat,long]\n",
    "    puerta_del_sol = [40.4146500,-3.7004000]\n",
    "    distancia = haversine(tuple(airbnb, puerta_del_sol)  \n",
    "    \n",
    "    map1 = folium.Map(location=(puerta_del_sol),  \n",
    "                  tiles='Stamen Terrain',     \n",
    "                  zoom_start=12)     \n",
    "                          \n",
    "    \n",
    "\n",
    "    csv1 = pd.read_csv(\"DataFrame_Parametros.csv\")                        \n",
    "    \n",
    "                            \n",
    "                            \n",
    "                            \n",
    "    return map1, distancia"
   ]
  },
  {
   "cell_type": "code",
   "execution_count": 39,
   "metadata": {},
   "outputs": [
    {
     "data": {
      "text/html": [
       "<div style=\"width:100%;\"><div style=\"position:relative;width:100%;height:0;padding-bottom:60%;\"><span style=\"color:#565656\">Make this Notebook Trusted to load map: File -> Trust Notebook</span><iframe src=\"about:blank\" style=\"position:absolute;width:100%;height:100%;left:0;top:0;border:none !important;\" data-html=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 onload=\"this.contentDocument.open();this.contentDocument.write(atob(this.getAttribute('data-html')));this.contentDocument.close();\" allowfullscreen webkitallowfullscreen mozallowfullscreen></iframe></div></div>"
      ],
      "text/plain": [
       "<folium.folium.Map at 0x261aaeb29d0>"
      ]
     },
     "execution_count": 39,
     "metadata": {},
     "output_type": "execute_result"
    }
   ],
   "source": [
    "map1 = folium.Map(location=(puerta_del_sol),tiles='Stamen Terrain',zoom_start=12)   \n",
    "\n",
    "map1"
   ]
  },
  {
   "cell_type": "code",
   "execution_count": null,
   "metadata": {},
   "outputs": [],
   "source": []
  },
  {
   "cell_type": "code",
   "execution_count": null,
   "metadata": {},
   "outputs": [],
   "source": []
  },
  {
   "cell_type": "code",
   "execution_count": null,
   "metadata": {},
   "outputs": [],
   "source": []
  },
  {
   "cell_type": "code",
   "execution_count": 43,
   "metadata": {},
   "outputs": [],
   "source": [
    "from geopy.geocoders import Nominatim\n",
    "import time\n",
    "import math"
   ]
  },
  {
   "cell_type": "code",
   "execution_count": 44,
   "metadata": {},
   "outputs": [],
   "source": [
    "# Creo un objeto Nominatim\n",
    "geo = Nominatim(user_agent=\"MyApp\")"
   ]
  },
  {
   "cell_type": "code",
   "execution_count": 47,
   "metadata": {
    "scrolled": true
   },
   "outputs": [
    {
     "name": "stdout",
     "output_type": "stream",
     "text": [
      "Dime el distrito de Madrid dónde te quieras alojar: Puerta del Sol, Madrid\n",
      "Puerta del Sol, Sol, Centro, Madrid, Área metropolitana de Madrid y Corredor del Henares, Comunidad de Madrid, 28013, España\n",
      "40.416865400000006 -3.7043021694877964\n"
     ]
    }
   ],
   "source": [
    "distric = input(\"Dime el distrito de Madrid dónde te quieras alojar: \")\n",
    "loc = geo.geocode(distric)\n",
    "\n",
    "print(loc)\n",
    "print(loc.latitude,loc.longitude)"
   ]
  },
  {
   "cell_type": "code",
   "execution_count": null,
   "metadata": {},
   "outputs": [],
   "source": []
  },
  {
   "cell_type": "code",
   "execution_count": null,
   "metadata": {},
   "outputs": [],
   "source": []
  },
  {
   "cell_type": "code",
   "execution_count": null,
   "metadata": {},
   "outputs": [],
   "source": []
  },
  {
   "cell_type": "code",
   "execution_count": 84,
   "metadata": {},
   "outputs": [
    {
     "data": {
      "text/html": [
       "<div>\n",
       "<style scoped>\n",
       "    .dataframe tbody tr th:only-of-type {\n",
       "        vertical-align: middle;\n",
       "    }\n",
       "\n",
       "    .dataframe tbody tr th {\n",
       "        vertical-align: top;\n",
       "    }\n",
       "\n",
       "    .dataframe thead th {\n",
       "        text-align: right;\n",
       "    }\n",
       "</style>\n",
       "<table border=\"1\" class=\"dataframe\">\n",
       "  <thead>\n",
       "    <tr style=\"text-align: right;\">\n",
       "      <th></th>\n",
       "      <th>Unnamed: 0</th>\n",
       "      <th>Identificador</th>\n",
       "      <th>Nombre</th>\n",
       "      <th>Latitud</th>\n",
       "      <th>Longitud</th>\n",
       "      <th>Distancia_km</th>\n",
       "    </tr>\n",
       "  </thead>\n",
       "  <tbody>\n",
       "    <tr>\n",
       "      <th>0</th>\n",
       "      <td>0</td>\n",
       "      <td>Art Museum</td>\n",
       "      <td>Museo Lázaro Galdiano</td>\n",
       "      <td>40.436929</td>\n",
       "      <td>-3.686186</td>\n",
       "      <td>2.394</td>\n",
       "    </tr>\n",
       "    <tr>\n",
       "      <th>1</th>\n",
       "      <td>1</td>\n",
       "      <td>Art Museum</td>\n",
       "      <td>Museo Sorolla</td>\n",
       "      <td>40.435248</td>\n",
       "      <td>-3.692374</td>\n",
       "      <td>2.777</td>\n",
       "    </tr>\n",
       "    <tr>\n",
       "      <th>2</th>\n",
       "      <td>2</td>\n",
       "      <td>Art Museum</td>\n",
       "      <td>Fundación Juan March</td>\n",
       "      <td>40.431018</td>\n",
       "      <td>-3.681080</td>\n",
       "      <td>2.940</td>\n",
       "    </tr>\n",
       "  </tbody>\n",
       "</table>\n",
       "</div>"
      ],
      "text/plain": [
       "   Unnamed: 0 Identificador                 Nombre    Latitud  Longitud  \\\n",
       "0           0    Art Museum  Museo Lázaro Galdiano  40.436929 -3.686186   \n",
       "1           1    Art Museum          Museo Sorolla  40.435248 -3.692374   \n",
       "2           2    Art Museum   Fundación Juan March  40.431018 -3.681080   \n",
       "\n",
       "   Distancia_km  \n",
       "0         2.394  \n",
       "1         2.777  \n",
       "2         2.940  "
      ]
     },
     "execution_count": 84,
     "metadata": {},
     "output_type": "execute_result"
    }
   ],
   "source": [
    "data = pd.read_csv(\"DataFrame_Parametros.csv\")\n",
    "data.head(3)"
   ]
  },
  {
   "cell_type": "code",
   "execution_count": 122,
   "metadata": {},
   "outputs": [],
   "source": [
    "lat1 = 40.45724\n",
    "lon1 = -3.67688"
   ]
  },
  {
   "cell_type": "code",
   "execution_count": 123,
   "metadata": {},
   "outputs": [],
   "source": [
    "# Función para calcular la distancia\n",
    "\n",
    "def calcular_distancia(lat1,lon1,lat2,lon2):\n",
    "    \n",
    "    lat1 = 40.45724\n",
    "    lon1 = -3.67688\n",
    "\n",
    "    lat2 = 40.436929\n",
    "    lon2 = -3.686186\n",
    "    \n",
    "    import gpxpy.geo\n",
    "\n",
    "    # Point one\n",
    "    lat1 = lat1\n",
    "    lon1 = lon1\n",
    "\n",
    "    # Point two\n",
    "    lat2 = lat2\n",
    "    lon2 = lon2\n",
    "    \n",
    "    # What you were looking for\n",
    "    dist = gpxpy.geo.haversine_distance(lat1, lon1, lat2, lon2)\n",
    "    km = dist/1000\n",
    "    km_decimal = round(km,2)\n",
    "    \n",
    "    return km_decimal"
   ]
  },
  {
   "cell_type": "code",
   "execution_count": 124,
   "metadata": {},
   "outputs": [
    {
     "data": {
      "text/plain": [
       "2.39"
      ]
     },
     "execution_count": 124,
     "metadata": {},
     "output_type": "execute_result"
    }
   ],
   "source": [
    "calcular_distancia(lat1,lon1,lat2,lon2)"
   ]
  },
  {
   "cell_type": "code",
   "execution_count": 126,
   "metadata": {},
   "outputs": [],
   "source": [
    "lst_lat = []\n",
    "lst_lon = []\n",
    "\n",
    "for i in data.index:\n",
    "    lst_lat.append(data[\"Latitud\"][i])\n",
    "    lst_lon.append(data[\"Longitud\"][i])"
   ]
  },
  {
   "cell_type": "code",
   "execution_count": 175,
   "metadata": {},
   "outputs": [],
   "source": [
    "def distancia(lat1,lon1,lst_lat,lst_lon):\n",
    "    \n",
    "    import gpxpy.geo\n",
    "\n",
    "    # Point two\n",
    "    for i in lst_lat[:]:\n",
    "        lat2 = lst_lat[i]\n",
    "    \n",
    "    for i in lst_lon[:]:\n",
    "        lon2 = lst_lon[i]\n",
    "    \n",
    "    # What you were looking for\n",
    "    dist = gpxpy.geo.haversine_distance(lat1, lon1, lat2, lon2)\n",
    "    km = dist/1000\n",
    "    km_decimal = round(km,2)\n",
    "    \n",
    "    lst_km = []\n",
    "    lst_km.append(km_decimal)\n",
    "    \n",
    "        \n",
    "    #### Meter el resultado con una columna del dataframe\n",
    "    \n",
    "    return lst_km"
   ]
  },
  {
   "cell_type": "code",
   "execution_count": 176,
   "metadata": {},
   "outputs": [
    {
     "ename": "TypeError",
     "evalue": "list indices must be integers or slices, not numpy.float64",
     "output_type": "error",
     "traceback": [
      "\u001b[1;31m---------------------------------------------------------------------------\u001b[0m",
      "\u001b[1;31mTypeError\u001b[0m                                 Traceback (most recent call last)",
      "\u001b[1;32m<ipython-input-176-70945abd0bad>\u001b[0m in \u001b[0;36m<module>\u001b[1;34m\u001b[0m\n\u001b[1;32m----> 1\u001b[1;33m \u001b[0mdistancia\u001b[0m\u001b[1;33m(\u001b[0m\u001b[0mlat1\u001b[0m\u001b[1;33m,\u001b[0m\u001b[0mlon2\u001b[0m\u001b[1;33m,\u001b[0m\u001b[0mlst_lat\u001b[0m\u001b[1;33m,\u001b[0m\u001b[0mlst_lon\u001b[0m\u001b[1;33m)\u001b[0m\u001b[1;33m\u001b[0m\u001b[1;33m\u001b[0m\u001b[0m\n\u001b[0m",
      "\u001b[1;32m<ipython-input-175-10dfc52598cc>\u001b[0m in \u001b[0;36mdistancia\u001b[1;34m(lat1, lon1, lst_lat, lst_lon)\u001b[0m\n\u001b[0;32m      5\u001b[0m     \u001b[1;31m# Point two\u001b[0m\u001b[1;33m\u001b[0m\u001b[1;33m\u001b[0m\u001b[1;33m\u001b[0m\u001b[0m\n\u001b[0;32m      6\u001b[0m     \u001b[1;32mfor\u001b[0m \u001b[0mi\u001b[0m \u001b[1;32min\u001b[0m \u001b[0mlst_lat\u001b[0m\u001b[1;33m[\u001b[0m\u001b[1;33m:\u001b[0m\u001b[1;33m]\u001b[0m\u001b[1;33m:\u001b[0m\u001b[1;33m\u001b[0m\u001b[1;33m\u001b[0m\u001b[0m\n\u001b[1;32m----> 7\u001b[1;33m         \u001b[0mlat2\u001b[0m \u001b[1;33m=\u001b[0m \u001b[0mlst_lat\u001b[0m\u001b[1;33m[\u001b[0m\u001b[0mi\u001b[0m\u001b[1;33m]\u001b[0m\u001b[1;33m\u001b[0m\u001b[1;33m\u001b[0m\u001b[0m\n\u001b[0m\u001b[0;32m      8\u001b[0m \u001b[1;33m\u001b[0m\u001b[0m\n\u001b[0;32m      9\u001b[0m     \u001b[1;32mfor\u001b[0m \u001b[0mi\u001b[0m \u001b[1;32min\u001b[0m \u001b[0mlst_lon\u001b[0m\u001b[1;33m[\u001b[0m\u001b[1;33m:\u001b[0m\u001b[1;33m]\u001b[0m\u001b[1;33m:\u001b[0m\u001b[1;33m\u001b[0m\u001b[1;33m\u001b[0m\u001b[0m\n",
      "\u001b[1;31mTypeError\u001b[0m: list indices must be integers or slices, not numpy.float64"
     ]
    }
   ],
   "source": [
    "distancia(lat1,lon2,lst_lat,lst_lon)"
   ]
  },
  {
   "cell_type": "code",
   "execution_count": 121,
   "metadata": {
    "scrolled": true
   },
   "outputs": [
    {
     "data": {
      "text/plain": [
       "74"
      ]
     },
     "execution_count": 121,
     "metadata": {},
     "output_type": "execute_result"
    }
   ],
   "source": [
    "len(lst_lon)"
   ]
  },
  {
   "cell_type": "code",
   "execution_count": null,
   "metadata": {},
   "outputs": [],
   "source": []
  },
  {
   "cell_type": "code",
   "execution_count": 170,
   "metadata": {},
   "outputs": [
    {
     "name": "stdout",
     "output_type": "stream",
     "text": [
      "40.436928528858616\n",
      "40.43524755218695\n",
      "40.431018056999996\n",
      "40.43323307938413\n",
      "40.42335591605433\n",
      "40.430086637179365\n",
      "40.42025376612304\n",
      "40.42039156250055\n",
      "40.415139\n",
      "40.44054649196349\n",
      "40.41635928605382\n",
      "40.42783958895426\n",
      "40.417720632890976\n",
      "40.41806232403098\n",
      "40.413978006085095\n",
      "40.423884219743115\n",
      "40.417545872054006\n",
      "40.41829484495374\n",
      "40.41713929663129\n",
      "40.41522780909753\n",
      "40.41101269430034\n",
      "40.417939720108535\n",
      "40.40873653580899\n",
      "40.431289295455365\n",
      "40.41535250089296\n",
      "40.42688473141366\n",
      "40.407362\n",
      "40.41733826013756\n",
      "40.42315774942788\n",
      "40.39201538087328\n",
      "40.41615338850464\n",
      "40.408134\n",
      "40.414500903090506\n",
      "40.436928528858616\n",
      "40.43524755218695\n",
      "40.43233402736354\n",
      "40.423259214976646\n",
      "40.425690338290416\n",
      "40.417720632890976\n",
      "40.41806232403098\n",
      "40.4241644119136\n",
      "40.437810739375614\n",
      "40.41366332123668\n",
      "40.458989\n",
      "40.450696105605296\n",
      "40.447541\n",
      "40.45004285289405\n",
      "40.441176125291726\n",
      "40.457461\n",
      "40.43883790334018\n",
      "40.445936\n",
      "40.42535781860352\n",
      "40.42942\n",
      "40.423825640021185\n",
      "40.4224200673436\n",
      "40.443877\n",
      "40.417069\n",
      "40.414833\n",
      "40.415261\n",
      "40.42321186543676\n",
      "40.415615\n",
      "40.42320302014196\n",
      "40.41677112290821\n",
      "40.416033826130594\n",
      "40.415672302246094\n",
      "40.408771\n",
      "40.418141166529296\n",
      "40.461183\n",
      "40.40098\n",
      "40.46108\n",
      "40.4530621561316\n",
      "40.436212\n",
      "40.39174723989229\n",
      "40.480055431734655\n"
     ]
    }
   ],
   "source": [
    "for i in lst_lat:\n",
    "    print(i)"
   ]
  },
  {
   "cell_type": "code",
   "execution_count": null,
   "metadata": {},
   "outputs": [],
   "source": []
  }
 ],
 "metadata": {
  "kernelspec": {
   "display_name": "Python 3",
   "language": "python",
   "name": "python3"
  },
  "language_info": {
   "codemirror_mode": {
    "name": "ipython",
    "version": 3
   },
   "file_extension": ".py",
   "mimetype": "text/x-python",
   "name": "python",
   "nbconvert_exporter": "python",
   "pygments_lexer": "ipython3",
   "version": "3.8.3"
  }
 },
 "nbformat": 4,
 "nbformat_minor": 4
}
