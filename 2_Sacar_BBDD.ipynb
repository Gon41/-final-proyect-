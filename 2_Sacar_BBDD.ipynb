{
 "cells": [
  {
   "cell_type": "code",
   "execution_count": null,
   "metadata": {},
   "outputs": [],
   "source": []
  },
  {
   "cell_type": "code",
   "execution_count": null,
   "metadata": {},
   "outputs": [],
   "source": []
  },
  {
   "cell_type": "raw",
   "metadata": {},
   "source": [
    "import pandas as pd\n",
    "import numpy as np\n",
    "from pandas import DataFrame\n",
    "import requests\n",
    "from dotenv import load_dotenv\n",
    "import os\n",
    "import re\n",
    "import json\n",
    "from pandas.io.json import json_normalize"
   ]
  },
  {
   "cell_type": "code",
   "execution_count": 33,
   "metadata": {},
   "outputs": [
    {
     "data": {
      "text/plain": [
       "True"
      ]
     },
     "execution_count": 33,
     "metadata": {},
     "output_type": "execute_result"
    }
   ],
   "source": [
    "# Importar el acceso al archivo\n",
    "\n",
    "load_dotenv()"
   ]
  },
  {
   "cell_type": "markdown",
   "metadata": {},
   "source": [
    "## Función 1: Realizar la llamada a la API con los parámetros deseados\n",
    "\n",
    "Introduzco los valores:\n",
    "\n",
    "1) **ll**: (Coordenadas) Separadas por una coma y en forma de string. \n",
    "*Ej: \"40.4146500,-3.7004000\"*\n",
    "\n",
    "2) **query**: (Lo que deseamos obtener) En forma de string. \n",
    "*Ej: \"Spanish Restauran\"*\n",
    "    - Categoría de los eventos: https://developer.foursquare.com/docs/build-with-foursquare/categories/\n",
    "    \n",
    "3) **limit**: (Límite de búsquedas). En forma de número entero. \n",
    "*Ej: 500*\n",
    "\n",
    "4) **name_database**: (Cómo queremos llamar a la base de datos). En forma de string. \n",
    "*Ej: \"spanish_restaurant\"*\n",
    "    "
   ]
  },
  {
   "cell_type": "code",
   "execution_count": 34,
   "metadata": {},
   "outputs": [],
   "source": [
    "def data_api(ll,query,limit,name_database):\n",
    "    \n",
    "    import pandas as pd                                    # Importo las librerias necesarias\n",
    "    import numpy as np\n",
    "    from pandas import DataFrame\n",
    "    import requests\n",
    "    from dotenv import load_dotenv\n",
    "    import os\n",
    "    import re\n",
    "    import json\n",
    "    from pandas.io.json import json_normalize\n",
    "    \n",
    "    load_dotenv()                                           # Importar el acceso al archivo\n",
    "    \n",
    "    url = 'https://api.foursquare.com/v2/venues/explore'    # Dirección de la API\n",
    "   \n",
    "    params = dict(\n",
    "    client_id=os.getenv(\"FQ_CLIENT_ID\"),                    # Verificación ID de acceso          \n",
    "    client_secret=os.getenv(\"FQ_CLIENT_SECRET\"),            # Verificación claves de acceso\n",
    "    v='20201201',                                           # Fecha de actualización\n",
    "    ll=ll,\n",
    "    radius=\"10000\",                                           # Coordenadas principales para buscar a partir de ellas\n",
    "    query=query,                                            # ¿Qué estamos buscando?\n",
    "    limit=limit)\n",
    "    resp = requests.get(url=url, params=params)             # Buscar en la url definida con los parámetros elegidos\n",
    "    name_database = json.loads(resp.text)                   # Convertirlo en un json y convertir la búsqueda en texto\n",
    "\n",
    "    return name_database"
   ]
  },
  {
   "cell_type": "code",
   "execution_count": null,
   "metadata": {},
   "outputs": [],
   "source": []
  },
  {
   "cell_type": "code",
   "execution_count": null,
   "metadata": {},
   "outputs": [],
   "source": []
  },
  {
   "cell_type": "markdown",
   "metadata": {},
   "source": [
    "## Función 2: Obtener los datos y ordenarlos\n",
    "\n",
    "Introduzco los valores:\n",
    "\n",
    "1) **bbdd**: (Base de datos) En forma de variable. \n",
    "*Ej: \"spanish_restaurant\"*\n",
    "\n",
    "2) **n**: (Nº de búsquedas que queremos realizar) En forma de número entero. \n",
    "*Ej: 100*\n",
    "\n",
    "        - Aclaración: Pese a buscar más de 100, solo lee una parte. Para ello utilizamos el siguiente código.\n",
    "        \n",
    "          *print(nombre_base_datos[\"response\"][\"totalResults\"])*\n"
   ]
  },
  {
   "cell_type": "code",
   "execution_count": 35,
   "metadata": {},
   "outputs": [],
   "source": [
    "def obtener_datos(bbdd,n):\n",
    "    \n",
    "    names = []\n",
    "    lat = []\n",
    "    long = []\n",
    "   \n",
    "    for i in range(n):\n",
    "          \n",
    "        names.append(bbdd[\"response\"][\"groups\"][0][\"items\"][i][\"venue\"][\"name\"])\n",
    "        lat.append(bbdd[\"response\"][\"groups\"][0][\"items\"][i][\"venue\"][\"location\"][\"lat\"])\n",
    "        long.append(bbdd[\"response\"][\"groups\"][0][\"items\"][i][\"venue\"][\"location\"][\"lng\"])\n",
    "        \n",
    "    return names,lat,long"
   ]
  },
  {
   "cell_type": "code",
   "execution_count": null,
   "metadata": {},
   "outputs": [],
   "source": []
  },
  {
   "cell_type": "code",
   "execution_count": null,
   "metadata": {},
   "outputs": [],
   "source": []
  },
  {
   "cell_type": "markdown",
   "metadata": {},
   "source": [
    "## Función 3: Crear un dataFrame, añadir el identificador y generar un .csv\n",
    "\n",
    "Introduzco los valores:\n",
    "\n",
    "1) **nombre_dataframe**: (Base de datos) En forma de string. \n",
    "*Ej: \"spanish_restaurant\"*\n",
    "\n",
    "2) **identificador**: (Cómo queremos identificar todos estos datos) En forma de string. \n",
    "*Ej: \"Restaurante Español\"*\n"
   ]
  },
  {
   "cell_type": "code",
   "execution_count": 36,
   "metadata": {},
   "outputs": [],
   "source": [
    "def dataFrame_creation(nombre_dataframe, identificador):\n",
    "    nombre_final = datos\n",
    "\n",
    "    nombre_final = list(nombre_final)\n",
    "\n",
    "    d = {\"Identificador\": identificador,\"Nombre\": nombre_final[0], \"Latitud\": nombre_final[1], \"Longitud\": nombre_final[2]}\n",
    "    final = pd.DataFrame(data=d)\n",
    "\n",
    "    final.to_csv(f\"{nombre_dataframe}.csv\")\n",
    "    \n",
    "    "
   ]
  },
  {
   "cell_type": "code",
   "execution_count": null,
   "metadata": {},
   "outputs": [],
   "source": []
  },
  {
   "cell_type": "code",
   "execution_count": null,
   "metadata": {},
   "outputs": [],
   "source": []
  },
  {
   "cell_type": "code",
   "execution_count": null,
   "metadata": {},
   "outputs": [],
   "source": []
  },
  {
   "cell_type": "code",
   "execution_count": null,
   "metadata": {},
   "outputs": [],
   "source": []
  },
  {
   "cell_type": "markdown",
   "metadata": {},
   "source": [
    "## Diferentes llamadas a la API"
   ]
  },
  {
   "cell_type": "markdown",
   "metadata": {},
   "source": [
    "## 1. Spanish Restaurant"
   ]
  },
  {
   "cell_type": "code",
   "execution_count": 37,
   "metadata": {},
   "outputs": [],
   "source": [
    "spanish_restaurant = data_api(\"40.4146500,-3.7004000\",\"Spanish Restaurant\",500,\"spanish_restaurant\")"
   ]
  },
  {
   "cell_type": "code",
   "execution_count": 38,
   "metadata": {},
   "outputs": [
    {
     "name": "stdout",
     "output_type": "stream",
     "text": [
      "224\n"
     ]
    }
   ],
   "source": [
    "print(spanish_restaurant[\"response\"][\"totalResults\"])\n",
    "\n",
    "datos = obtener_datos(spanish_restaurant,100)"
   ]
  },
  {
   "cell_type": "code",
   "execution_count": 39,
   "metadata": {
    "scrolled": true
   },
   "outputs": [
    {
     "data": {
      "text/html": [
       "<div>\n",
       "<style scoped>\n",
       "    .dataframe tbody tr th:only-of-type {\n",
       "        vertical-align: middle;\n",
       "    }\n",
       "\n",
       "    .dataframe tbody tr th {\n",
       "        vertical-align: top;\n",
       "    }\n",
       "\n",
       "    .dataframe thead th {\n",
       "        text-align: right;\n",
       "    }\n",
       "</style>\n",
       "<table border=\"1\" class=\"dataframe\">\n",
       "  <thead>\n",
       "    <tr style=\"text-align: right;\">\n",
       "      <th></th>\n",
       "      <th>Unnamed: 0</th>\n",
       "      <th>Identificador</th>\n",
       "      <th>Nombre</th>\n",
       "      <th>Latitud</th>\n",
       "      <th>Longitud</th>\n",
       "    </tr>\n",
       "  </thead>\n",
       "  <tbody>\n",
       "    <tr>\n",
       "      <th>0</th>\n",
       "      <td>0</td>\n",
       "      <td>Restaurante Español</td>\n",
       "      <td>Toga</td>\n",
       "      <td>40.411118</td>\n",
       "      <td>-3.706673</td>\n",
       "    </tr>\n",
       "    <tr>\n",
       "      <th>1</th>\n",
       "      <td>1</td>\n",
       "      <td>Restaurante Español</td>\n",
       "      <td>El Barril de las Letras</td>\n",
       "      <td>40.414360</td>\n",
       "      <td>-3.696713</td>\n",
       "    </tr>\n",
       "    <tr>\n",
       "      <th>2</th>\n",
       "      <td>2</td>\n",
       "      <td>Restaurante Español</td>\n",
       "      <td>Casa Pueblo</td>\n",
       "      <td>40.414614</td>\n",
       "      <td>-3.698598</td>\n",
       "    </tr>\n",
       "    <tr>\n",
       "      <th>3</th>\n",
       "      <td>3</td>\n",
       "      <td>Restaurante Español</td>\n",
       "      <td>Astór Gastrobar</td>\n",
       "      <td>40.412730</td>\n",
       "      <td>-3.709617</td>\n",
       "    </tr>\n",
       "    <tr>\n",
       "      <th>4</th>\n",
       "      <td>4</td>\n",
       "      <td>Restaurante Español</td>\n",
       "      <td>El Paraguas</td>\n",
       "      <td>40.423865</td>\n",
       "      <td>-3.685814</td>\n",
       "    </tr>\n",
       "  </tbody>\n",
       "</table>\n",
       "</div>"
      ],
      "text/plain": [
       "   Unnamed: 0        Identificador                   Nombre    Latitud  \\\n",
       "0           0  Restaurante Español                     Toga  40.411118   \n",
       "1           1  Restaurante Español  El Barril de las Letras  40.414360   \n",
       "2           2  Restaurante Español              Casa Pueblo  40.414614   \n",
       "3           3  Restaurante Español          Astór Gastrobar  40.412730   \n",
       "4           4  Restaurante Español              El Paraguas  40.423865   \n",
       "\n",
       "   Longitud  \n",
       "0 -3.706673  \n",
       "1 -3.696713  \n",
       "2 -3.698598  \n",
       "3 -3.709617  \n",
       "4 -3.685814  "
      ]
     },
     "execution_count": 39,
     "metadata": {},
     "output_type": "execute_result"
    }
   ],
   "source": [
    "dataFrame_creation(\"Spanish_Restaurant\", \"Restaurante Español\")\n",
    "\n",
    "cv = pd.read_csv(\"Spanish_Restaurant.csv\")\n",
    "\n",
    "cv.head()"
   ]
  },
  {
   "cell_type": "code",
   "execution_count": null,
   "metadata": {},
   "outputs": [],
   "source": []
  },
  {
   "cell_type": "markdown",
   "metadata": {},
   "source": [
    "## 2. Italian restaurant"
   ]
  },
  {
   "cell_type": "code",
   "execution_count": 40,
   "metadata": {
    "scrolled": false
   },
   "outputs": [],
   "source": [
    "italian_restaurant = data_api(\"40.4146500,-3.7004000\",\"Italian Restaurant\",500,\"italian_restaurant\")"
   ]
  },
  {
   "cell_type": "code",
   "execution_count": 41,
   "metadata": {},
   "outputs": [
    {
     "name": "stdout",
     "output_type": "stream",
     "text": [
      "110\n"
     ]
    }
   ],
   "source": [
    "print(italian_restaurant[\"response\"][\"totalResults\"])\n",
    "\n",
    "datos = obtener_datos(italian_restaurant,100)\n"
   ]
  },
  {
   "cell_type": "code",
   "execution_count": 42,
   "metadata": {
    "scrolled": true
   },
   "outputs": [
    {
     "data": {
      "text/html": [
       "<div>\n",
       "<style scoped>\n",
       "    .dataframe tbody tr th:only-of-type {\n",
       "        vertical-align: middle;\n",
       "    }\n",
       "\n",
       "    .dataframe tbody tr th {\n",
       "        vertical-align: top;\n",
       "    }\n",
       "\n",
       "    .dataframe thead th {\n",
       "        text-align: right;\n",
       "    }\n",
       "</style>\n",
       "<table border=\"1\" class=\"dataframe\">\n",
       "  <thead>\n",
       "    <tr style=\"text-align: right;\">\n",
       "      <th></th>\n",
       "      <th>Unnamed: 0</th>\n",
       "      <th>Identificador</th>\n",
       "      <th>Nombre</th>\n",
       "      <th>Latitud</th>\n",
       "      <th>Longitud</th>\n",
       "    </tr>\n",
       "  </thead>\n",
       "  <tbody>\n",
       "    <tr>\n",
       "      <th>0</th>\n",
       "      <td>0</td>\n",
       "      <td>Restaurante Italiano</td>\n",
       "      <td>Ôven Mozzarella Bar</td>\n",
       "      <td>40.419245</td>\n",
       "      <td>-3.697850</td>\n",
       "    </tr>\n",
       "    <tr>\n",
       "      <th>1</th>\n",
       "      <td>1</td>\n",
       "      <td>Restaurante Italiano</td>\n",
       "      <td>Pizzaiolo</td>\n",
       "      <td>40.423795</td>\n",
       "      <td>-3.698597</td>\n",
       "    </tr>\n",
       "    <tr>\n",
       "      <th>2</th>\n",
       "      <td>2</td>\n",
       "      <td>Restaurante Italiano</td>\n",
       "      <td>La Tavernetta</td>\n",
       "      <td>40.426076</td>\n",
       "      <td>-3.694156</td>\n",
       "    </tr>\n",
       "    <tr>\n",
       "      <th>3</th>\n",
       "      <td>3</td>\n",
       "      <td>Restaurante Italiano</td>\n",
       "      <td>Pizzeria Italiana Piccolo Diavolo</td>\n",
       "      <td>40.411529</td>\n",
       "      <td>-3.695596</td>\n",
       "    </tr>\n",
       "    <tr>\n",
       "      <th>4</th>\n",
       "      <td>4</td>\n",
       "      <td>Restaurante Italiano</td>\n",
       "      <td>Nina Pasta Bar</td>\n",
       "      <td>40.409508</td>\n",
       "      <td>-3.708836</td>\n",
       "    </tr>\n",
       "  </tbody>\n",
       "</table>\n",
       "</div>"
      ],
      "text/plain": [
       "   Unnamed: 0         Identificador                             Nombre  \\\n",
       "0           0  Restaurante Italiano                Ôven Mozzarella Bar   \n",
       "1           1  Restaurante Italiano                          Pizzaiolo   \n",
       "2           2  Restaurante Italiano                      La Tavernetta   \n",
       "3           3  Restaurante Italiano  Pizzeria Italiana Piccolo Diavolo   \n",
       "4           4  Restaurante Italiano                     Nina Pasta Bar   \n",
       "\n",
       "     Latitud  Longitud  \n",
       "0  40.419245 -3.697850  \n",
       "1  40.423795 -3.698597  \n",
       "2  40.426076 -3.694156  \n",
       "3  40.411529 -3.695596  \n",
       "4  40.409508 -3.708836  "
      ]
     },
     "execution_count": 42,
     "metadata": {},
     "output_type": "execute_result"
    }
   ],
   "source": [
    "dataFrame_creation(\"Italian_Restaurant\", \"Restaurante Italiano\")\n",
    "\n",
    "cv1 = pd.read_csv(\"Italian_Restaurant.csv\")\n",
    "\n",
    "cv1.head()"
   ]
  },
  {
   "cell_type": "code",
   "execution_count": null,
   "metadata": {},
   "outputs": [],
   "source": []
  },
  {
   "cell_type": "markdown",
   "metadata": {},
   "source": [
    "## 3. Museos de Arte"
   ]
  },
  {
   "cell_type": "code",
   "execution_count": 43,
   "metadata": {},
   "outputs": [],
   "source": [
    "art_museum = data_api(\"40.4146500,-3.7004000\",\"Art Museum\",300,\"art_museum\")"
   ]
  },
  {
   "cell_type": "code",
   "execution_count": 44,
   "metadata": {},
   "outputs": [
    {
     "name": "stdout",
     "output_type": "stream",
     "text": [
      "34\n"
     ]
    }
   ],
   "source": [
    "print(art_museum[\"response\"][\"totalResults\"])\n",
    "\n",
    "datos = obtener_datos(art_museum,21)"
   ]
  },
  {
   "cell_type": "code",
   "execution_count": 45,
   "metadata": {},
   "outputs": [
    {
     "data": {
      "text/html": [
       "<div>\n",
       "<style scoped>\n",
       "    .dataframe tbody tr th:only-of-type {\n",
       "        vertical-align: middle;\n",
       "    }\n",
       "\n",
       "    .dataframe tbody tr th {\n",
       "        vertical-align: top;\n",
       "    }\n",
       "\n",
       "    .dataframe thead th {\n",
       "        text-align: right;\n",
       "    }\n",
       "</style>\n",
       "<table border=\"1\" class=\"dataframe\">\n",
       "  <thead>\n",
       "    <tr style=\"text-align: right;\">\n",
       "      <th></th>\n",
       "      <th>Unnamed: 0</th>\n",
       "      <th>Identificador</th>\n",
       "      <th>Nombre</th>\n",
       "      <th>Latitud</th>\n",
       "      <th>Longitud</th>\n",
       "    </tr>\n",
       "  </thead>\n",
       "  <tbody>\n",
       "    <tr>\n",
       "      <th>0</th>\n",
       "      <td>0</td>\n",
       "      <td>Museo de Arte</td>\n",
       "      <td>Museo Nacional Centro de Arte Reina Sofía (MNC...</td>\n",
       "      <td>40.408737</td>\n",
       "      <td>-3.693822</td>\n",
       "    </tr>\n",
       "    <tr>\n",
       "      <th>1</th>\n",
       "      <td>1</td>\n",
       "      <td>Museo de Arte</td>\n",
       "      <td>Museo Thyssen-Bornemisza</td>\n",
       "      <td>40.416359</td>\n",
       "      <td>-3.694891</td>\n",
       "    </tr>\n",
       "    <tr>\n",
       "      <th>2</th>\n",
       "      <td>2</td>\n",
       "      <td>Museo de Arte</td>\n",
       "      <td>Museo Nacional del Prado</td>\n",
       "      <td>40.413978</td>\n",
       "      <td>-3.692189</td>\n",
       "    </tr>\n",
       "    <tr>\n",
       "      <th>3</th>\n",
       "      <td>3</td>\n",
       "      <td>Museo de Arte</td>\n",
       "      <td>CaixaForum Madrid</td>\n",
       "      <td>40.411013</td>\n",
       "      <td>-3.693177</td>\n",
       "    </tr>\n",
       "    <tr>\n",
       "      <th>4</th>\n",
       "      <td>4</td>\n",
       "      <td>Museo de Arte</td>\n",
       "      <td>Espacio Fundación Telefónica</td>\n",
       "      <td>40.420392</td>\n",
       "      <td>-3.701617</td>\n",
       "    </tr>\n",
       "  </tbody>\n",
       "</table>\n",
       "</div>"
      ],
      "text/plain": [
       "   Unnamed: 0  Identificador  \\\n",
       "0           0  Museo de Arte   \n",
       "1           1  Museo de Arte   \n",
       "2           2  Museo de Arte   \n",
       "3           3  Museo de Arte   \n",
       "4           4  Museo de Arte   \n",
       "\n",
       "                                              Nombre    Latitud  Longitud  \n",
       "0  Museo Nacional Centro de Arte Reina Sofía (MNC...  40.408737 -3.693822  \n",
       "1                           Museo Thyssen-Bornemisza  40.416359 -3.694891  \n",
       "2                           Museo Nacional del Prado  40.413978 -3.692189  \n",
       "3                                  CaixaForum Madrid  40.411013 -3.693177  \n",
       "4                       Espacio Fundación Telefónica  40.420392 -3.701617  "
      ]
     },
     "execution_count": 45,
     "metadata": {},
     "output_type": "execute_result"
    }
   ],
   "source": [
    "dataFrame_creation(\"Art_Museum\", \"Museo de Arte\")\n",
    "                   \n",
    "cv2 = pd.read_csv(\"Art_Museum.csv\")\n",
    "                   \n",
    "cv2.head()"
   ]
  },
  {
   "cell_type": "code",
   "execution_count": null,
   "metadata": {},
   "outputs": [],
   "source": []
  },
  {
   "cell_type": "markdown",
   "metadata": {},
   "source": [
    "## 4. Soccer Stadium"
   ]
  },
  {
   "cell_type": "code",
   "execution_count": 46,
   "metadata": {},
   "outputs": [],
   "source": [
    "soccer_stadium = data_api(\"40.4146500,-3.7004000\",\"Soccer Stadium\",300,\"soccer_stadium\")"
   ]
  },
  {
   "cell_type": "code",
   "execution_count": 47,
   "metadata": {},
   "outputs": [
    {
     "name": "stdout",
     "output_type": "stream",
     "text": [
      "14\n"
     ]
    }
   ],
   "source": [
    "print(soccer_stadium[\"response\"][\"totalResults\"])\n",
    "\n",
    "datos = obtener_datos(soccer_stadium,14)"
   ]
  },
  {
   "cell_type": "code",
   "execution_count": 48,
   "metadata": {
    "scrolled": true
   },
   "outputs": [
    {
     "data": {
      "text/html": [
       "<div>\n",
       "<style scoped>\n",
       "    .dataframe tbody tr th:only-of-type {\n",
       "        vertical-align: middle;\n",
       "    }\n",
       "\n",
       "    .dataframe tbody tr th {\n",
       "        vertical-align: top;\n",
       "    }\n",
       "\n",
       "    .dataframe thead th {\n",
       "        text-align: right;\n",
       "    }\n",
       "</style>\n",
       "<table border=\"1\" class=\"dataframe\">\n",
       "  <thead>\n",
       "    <tr style=\"text-align: right;\">\n",
       "      <th></th>\n",
       "      <th>Unnamed: 0</th>\n",
       "      <th>Identificador</th>\n",
       "      <th>Nombre</th>\n",
       "      <th>Latitud</th>\n",
       "      <th>Longitud</th>\n",
       "    </tr>\n",
       "  </thead>\n",
       "  <tbody>\n",
       "    <tr>\n",
       "      <th>0</th>\n",
       "      <td>0</td>\n",
       "      <td>Estadio de Fútbol</td>\n",
       "      <td>Estadio Santiago Bernabéu</td>\n",
       "      <td>40.453062</td>\n",
       "      <td>-3.688338</td>\n",
       "    </tr>\n",
       "    <tr>\n",
       "      <th>1</th>\n",
       "      <td>1</td>\n",
       "      <td>Estadio de Fútbol</td>\n",
       "      <td>Estadio Vicente Calderón</td>\n",
       "      <td>40.402071</td>\n",
       "      <td>-3.720382</td>\n",
       "    </tr>\n",
       "    <tr>\n",
       "      <th>2</th>\n",
       "      <td>2</td>\n",
       "      <td>Estadio de Fútbol</td>\n",
       "      <td>Players Tunnel</td>\n",
       "      <td>40.453130</td>\n",
       "      <td>-3.687860</td>\n",
       "    </tr>\n",
       "    <tr>\n",
       "      <th>3</th>\n",
       "      <td>3</td>\n",
       "      <td>Estadio de Fútbol</td>\n",
       "      <td>Palco De Honor (Royal Box)</td>\n",
       "      <td>40.453372</td>\n",
       "      <td>-3.688411</td>\n",
       "    </tr>\n",
       "    <tr>\n",
       "      <th>4</th>\n",
       "      <td>4</td>\n",
       "      <td>Estadio de Fútbol</td>\n",
       "      <td>Estadio de Vallecas</td>\n",
       "      <td>40.391747</td>\n",
       "      <td>-3.658640</td>\n",
       "    </tr>\n",
       "  </tbody>\n",
       "</table>\n",
       "</div>"
      ],
      "text/plain": [
       "   Unnamed: 0      Identificador                      Nombre    Latitud  \\\n",
       "0           0  Estadio de Fútbol   Estadio Santiago Bernabéu  40.453062   \n",
       "1           1  Estadio de Fútbol    Estadio Vicente Calderón  40.402071   \n",
       "2           2  Estadio de Fútbol              Players Tunnel  40.453130   \n",
       "3           3  Estadio de Fútbol  Palco De Honor (Royal Box)  40.453372   \n",
       "4           4  Estadio de Fútbol         Estadio de Vallecas  40.391747   \n",
       "\n",
       "   Longitud  \n",
       "0 -3.688338  \n",
       "1 -3.720382  \n",
       "2 -3.687860  \n",
       "3 -3.688411  \n",
       "4 -3.658640  "
      ]
     },
     "execution_count": 48,
     "metadata": {},
     "output_type": "execute_result"
    }
   ],
   "source": [
    "dataFrame_creation(\"Soccer_stadium\", \"Estadio de Fútbol\")\n",
    "\n",
    "cv3 = pd.read_csv(\"Soccer_stadium.csv\")\n",
    "\n",
    "cv3.head()"
   ]
  },
  {
   "cell_type": "code",
   "execution_count": null,
   "metadata": {},
   "outputs": [],
   "source": []
  },
  {
   "cell_type": "markdown",
   "metadata": {},
   "source": [
    "## 5. Outdoor Sculpture"
   ]
  },
  {
   "cell_type": "code",
   "execution_count": 49,
   "metadata": {},
   "outputs": [],
   "source": [
    "outdoor_sculpture = data_api(\"40.4146500,-3.7004000\",\"Outdoor Sculpture\",300,\"outdoor_sculpture\")"
   ]
  },
  {
   "cell_type": "code",
   "execution_count": 50,
   "metadata": {},
   "outputs": [
    {
     "name": "stdout",
     "output_type": "stream",
     "text": [
      "26\n"
     ]
    }
   ],
   "source": [
    "print(outdoor_sculpture[\"response\"][\"totalResults\"])\n",
    "\n",
    "datos = obtener_datos(outdoor_sculpture,26)"
   ]
  },
  {
   "cell_type": "code",
   "execution_count": 51,
   "metadata": {},
   "outputs": [
    {
     "data": {
      "text/html": [
       "<div>\n",
       "<style scoped>\n",
       "    .dataframe tbody tr th:only-of-type {\n",
       "        vertical-align: middle;\n",
       "    }\n",
       "\n",
       "    .dataframe tbody tr th {\n",
       "        vertical-align: top;\n",
       "    }\n",
       "\n",
       "    .dataframe thead th {\n",
       "        text-align: right;\n",
       "    }\n",
       "</style>\n",
       "<table border=\"1\" class=\"dataframe\">\n",
       "  <thead>\n",
       "    <tr style=\"text-align: right;\">\n",
       "      <th></th>\n",
       "      <th>Unnamed: 0</th>\n",
       "      <th>Identificador</th>\n",
       "      <th>Nombre</th>\n",
       "      <th>Latitud</th>\n",
       "      <th>Longitud</th>\n",
       "    </tr>\n",
       "  </thead>\n",
       "  <tbody>\n",
       "    <tr>\n",
       "      <th>0</th>\n",
       "      <td>0</td>\n",
       "      <td>Escultura Exterior</td>\n",
       "      <td>Luminoso Tío Pepe</td>\n",
       "      <td>40.416771</td>\n",
       "      <td>-3.703344</td>\n",
       "    </tr>\n",
       "    <tr>\n",
       "      <th>1</th>\n",
       "      <td>1</td>\n",
       "      <td>Escultura Exterior</td>\n",
       "      <td>Monumento A Miguel De Cervantes</td>\n",
       "      <td>40.415615</td>\n",
       "      <td>-3.696507</td>\n",
       "    </tr>\n",
       "    <tr>\n",
       "      <th>2</th>\n",
       "      <td>2</td>\n",
       "      <td>Escultura Exterior</td>\n",
       "      <td>Casa De Papá Noel</td>\n",
       "      <td>40.416034</td>\n",
       "      <td>-3.704201</td>\n",
       "    </tr>\n",
       "    <tr>\n",
       "      <th>3</th>\n",
       "      <td>3</td>\n",
       "      <td>Escultura Exterior</td>\n",
       "      <td>Ángel estrellado</td>\n",
       "      <td>40.415672</td>\n",
       "      <td>-3.709996</td>\n",
       "    </tr>\n",
       "    <tr>\n",
       "      <th>4</th>\n",
       "      <td>4</td>\n",
       "      <td>Escultura Exterior</td>\n",
       "      <td>Stormtrooper #FacetheForce</td>\n",
       "      <td>40.408771</td>\n",
       "      <td>-3.693228</td>\n",
       "    </tr>\n",
       "  </tbody>\n",
       "</table>\n",
       "</div>"
      ],
      "text/plain": [
       "   Unnamed: 0       Identificador                           Nombre    Latitud  \\\n",
       "0           0  Escultura Exterior                Luminoso Tío Pepe  40.416771   \n",
       "1           1  Escultura Exterior  Monumento A Miguel De Cervantes  40.415615   \n",
       "2           2  Escultura Exterior                Casa De Papá Noel  40.416034   \n",
       "3           3  Escultura Exterior                 Ángel estrellado  40.415672   \n",
       "4           4  Escultura Exterior       Stormtrooper #FacetheForce  40.408771   \n",
       "\n",
       "   Longitud  \n",
       "0 -3.703344  \n",
       "1 -3.696507  \n",
       "2 -3.704201  \n",
       "3 -3.709996  \n",
       "4 -3.693228  "
      ]
     },
     "execution_count": 51,
     "metadata": {},
     "output_type": "execute_result"
    }
   ],
   "source": [
    "dataFrame_creation(\"Outdoor_Sculpture\", \"Escultura Exterior\")\n",
    "\n",
    "cv4 = pd.read_csv(\"Outdoor_Sculpture.csv\")\n",
    "\n",
    "cv4.head()"
   ]
  },
  {
   "cell_type": "code",
   "execution_count": null,
   "metadata": {},
   "outputs": [],
   "source": []
  },
  {
   "cell_type": "markdown",
   "metadata": {},
   "source": [
    "## 6. History Museum"
   ]
  },
  {
   "cell_type": "code",
   "execution_count": 52,
   "metadata": {},
   "outputs": [],
   "source": [
    "history_museum = data_api(\"40.4146500,-3.7004000\",\"History Museum\",300,\"history_museum\")"
   ]
  },
  {
   "cell_type": "code",
   "execution_count": 53,
   "metadata": {},
   "outputs": [
    {
     "name": "stdout",
     "output_type": "stream",
     "text": [
      "20\n"
     ]
    }
   ],
   "source": [
    "print(history_museum[\"response\"][\"totalResults\"])\n",
    "\n",
    "datos = obtener_datos(history_museum,20)"
   ]
  },
  {
   "cell_type": "code",
   "execution_count": 54,
   "metadata": {
    "scrolled": false
   },
   "outputs": [
    {
     "data": {
      "text/html": [
       "<div>\n",
       "<style scoped>\n",
       "    .dataframe tbody tr th:only-of-type {\n",
       "        vertical-align: middle;\n",
       "    }\n",
       "\n",
       "    .dataframe tbody tr th {\n",
       "        vertical-align: top;\n",
       "    }\n",
       "\n",
       "    .dataframe thead th {\n",
       "        text-align: right;\n",
       "    }\n",
       "</style>\n",
       "<table border=\"1\" class=\"dataframe\">\n",
       "  <thead>\n",
       "    <tr style=\"text-align: right;\">\n",
       "      <th></th>\n",
       "      <th>Unnamed: 0</th>\n",
       "      <th>Identificador</th>\n",
       "      <th>Nombre</th>\n",
       "      <th>Latitud</th>\n",
       "      <th>Longitud</th>\n",
       "    </tr>\n",
       "  </thead>\n",
       "  <tbody>\n",
       "    <tr>\n",
       "      <th>0</th>\n",
       "      <td>0</td>\n",
       "      <td>Museo de Historia</td>\n",
       "      <td>Museo Arqueológico Nacional (MAN)</td>\n",
       "      <td>40.423259</td>\n",
       "      <td>-3.688432</td>\n",
       "    </tr>\n",
       "    <tr>\n",
       "      <th>1</th>\n",
       "      <td>1</td>\n",
       "      <td>Museo de Historia</td>\n",
       "      <td>Imprenta Municipal</td>\n",
       "      <td>40.413663</td>\n",
       "      <td>-3.705448</td>\n",
       "    </tr>\n",
       "    <tr>\n",
       "      <th>2</th>\n",
       "      <td>2</td>\n",
       "      <td>Museo de Historia</td>\n",
       "      <td>Museo Naval de Madrid</td>\n",
       "      <td>40.417721</td>\n",
       "      <td>-3.693211</td>\n",
       "    </tr>\n",
       "    <tr>\n",
       "      <th>3</th>\n",
       "      <td>3</td>\n",
       "      <td>Museo de Historia</td>\n",
       "      <td>Templo de Debod</td>\n",
       "      <td>40.424164</td>\n",
       "      <td>-3.716843</td>\n",
       "    </tr>\n",
       "    <tr>\n",
       "      <th>4</th>\n",
       "      <td>4</td>\n",
       "      <td>Museo de Historia</td>\n",
       "      <td>Museo Sorolla</td>\n",
       "      <td>40.435248</td>\n",
       "      <td>-3.692374</td>\n",
       "    </tr>\n",
       "  </tbody>\n",
       "</table>\n",
       "</div>"
      ],
      "text/plain": [
       "   Unnamed: 0      Identificador                             Nombre  \\\n",
       "0           0  Museo de Historia  Museo Arqueológico Nacional (MAN)   \n",
       "1           1  Museo de Historia                 Imprenta Municipal   \n",
       "2           2  Museo de Historia              Museo Naval de Madrid   \n",
       "3           3  Museo de Historia                    Templo de Debod   \n",
       "4           4  Museo de Historia                      Museo Sorolla   \n",
       "\n",
       "     Latitud  Longitud  \n",
       "0  40.423259 -3.688432  \n",
       "1  40.413663 -3.705448  \n",
       "2  40.417721 -3.693211  \n",
       "3  40.424164 -3.716843  \n",
       "4  40.435248 -3.692374  "
      ]
     },
     "execution_count": 54,
     "metadata": {},
     "output_type": "execute_result"
    }
   ],
   "source": [
    "dataFrame_creation(\"History_Museum\", \"Museo de Historia\")\n",
    "\n",
    "cv5 = pd.read_csv(\"History_Museum.csv\")\n",
    "\n",
    "cv5.head()"
   ]
  },
  {
   "cell_type": "code",
   "execution_count": null,
   "metadata": {},
   "outputs": [],
   "source": []
  },
  {
   "cell_type": "markdown",
   "metadata": {},
   "source": [
    "## 7. Palace"
   ]
  },
  {
   "cell_type": "code",
   "execution_count": 55,
   "metadata": {},
   "outputs": [],
   "source": [
    "palace = data_api(\"40.4146500,-3.7004000\",\"Palace\",100,\"palace_sites\")"
   ]
  },
  {
   "cell_type": "code",
   "execution_count": 56,
   "metadata": {},
   "outputs": [
    {
     "name": "stdout",
     "output_type": "stream",
     "text": [
      "48\n"
     ]
    }
   ],
   "source": [
    "print(palace[\"response\"][\"totalResults\"])\n",
    "\n",
    "datos = obtener_datos(palace,12)"
   ]
  },
  {
   "cell_type": "code",
   "execution_count": 57,
   "metadata": {},
   "outputs": [
    {
     "data": {
      "text/html": [
       "<div>\n",
       "<style scoped>\n",
       "    .dataframe tbody tr th:only-of-type {\n",
       "        vertical-align: middle;\n",
       "    }\n",
       "\n",
       "    .dataframe tbody tr th {\n",
       "        vertical-align: top;\n",
       "    }\n",
       "\n",
       "    .dataframe thead th {\n",
       "        text-align: right;\n",
       "    }\n",
       "</style>\n",
       "<table border=\"1\" class=\"dataframe\">\n",
       "  <thead>\n",
       "    <tr style=\"text-align: right;\">\n",
       "      <th></th>\n",
       "      <th>Unnamed: 0</th>\n",
       "      <th>Identificador</th>\n",
       "      <th>Nombre</th>\n",
       "      <th>Latitud</th>\n",
       "      <th>Longitud</th>\n",
       "    </tr>\n",
       "  </thead>\n",
       "  <tbody>\n",
       "    <tr>\n",
       "      <th>0</th>\n",
       "      <td>0</td>\n",
       "      <td>Palacio</td>\n",
       "      <td>Palacio Real de Madrid</td>\n",
       "      <td>40.417940</td>\n",
       "      <td>-3.714259</td>\n",
       "    </tr>\n",
       "    <tr>\n",
       "      <th>1</th>\n",
       "      <td>1</td>\n",
       "      <td>Palacio</td>\n",
       "      <td>Plaza de las Cortes</td>\n",
       "      <td>40.415773</td>\n",
       "      <td>-3.696093</td>\n",
       "    </tr>\n",
       "    <tr>\n",
       "      <th>2</th>\n",
       "      <td>2</td>\n",
       "      <td>Palacio</td>\n",
       "      <td>Jardines de Sabatini</td>\n",
       "      <td>40.419954</td>\n",
       "      <td>-3.713126</td>\n",
       "    </tr>\n",
       "    <tr>\n",
       "      <th>3</th>\n",
       "      <td>3</td>\n",
       "      <td>Palacio</td>\n",
       "      <td>Palacio de Santoña</td>\n",
       "      <td>40.413975</td>\n",
       "      <td>-3.700380</td>\n",
       "    </tr>\n",
       "    <tr>\n",
       "      <th>4</th>\n",
       "      <td>4</td>\n",
       "      <td>Palacio</td>\n",
       "      <td>Hotel Único Madrid</td>\n",
       "      <td>40.428560</td>\n",
       "      <td>-3.686494</td>\n",
       "    </tr>\n",
       "  </tbody>\n",
       "</table>\n",
       "</div>"
      ],
      "text/plain": [
       "   Unnamed: 0 Identificador                  Nombre    Latitud  Longitud\n",
       "0           0       Palacio  Palacio Real de Madrid  40.417940 -3.714259\n",
       "1           1       Palacio     Plaza de las Cortes  40.415773 -3.696093\n",
       "2           2       Palacio    Jardines de Sabatini  40.419954 -3.713126\n",
       "3           3       Palacio      Palacio de Santoña  40.413975 -3.700380\n",
       "4           4       Palacio      Hotel Único Madrid  40.428560 -3.686494"
      ]
     },
     "execution_count": 57,
     "metadata": {},
     "output_type": "execute_result"
    }
   ],
   "source": [
    "dataFrame_creation(\"palace_sites\", \"Palacio\")\n",
    "\n",
    "cv6 = pd.read_csv(\"Palace_sites.csv\")\n",
    "\n",
    "cv6.head()"
   ]
  },
  {
   "cell_type": "code",
   "execution_count": null,
   "metadata": {},
   "outputs": [],
   "source": []
  },
  {
   "cell_type": "markdown",
   "metadata": {},
   "source": [
    "## 8. Metro Station"
   ]
  },
  {
   "cell_type": "code",
   "execution_count": 58,
   "metadata": {},
   "outputs": [],
   "source": [
    "metrostation = data_api(\"40.4146500,-3.7004000\",\"Metro Station\",100,\"metrostation\")"
   ]
  },
  {
   "cell_type": "code",
   "execution_count": 59,
   "metadata": {},
   "outputs": [
    {
     "name": "stdout",
     "output_type": "stream",
     "text": [
      "203\n"
     ]
    }
   ],
   "source": [
    "print(metrostation[\"response\"][\"totalResults\"])\n",
    "\n",
    "datos = obtener_datos(metrostation,100)"
   ]
  },
  {
   "cell_type": "code",
   "execution_count": 60,
   "metadata": {},
   "outputs": [
    {
     "data": {
      "text/html": [
       "<div>\n",
       "<style scoped>\n",
       "    .dataframe tbody tr th:only-of-type {\n",
       "        vertical-align: middle;\n",
       "    }\n",
       "\n",
       "    .dataframe tbody tr th {\n",
       "        vertical-align: top;\n",
       "    }\n",
       "\n",
       "    .dataframe thead th {\n",
       "        text-align: right;\n",
       "    }\n",
       "</style>\n",
       "<table border=\"1\" class=\"dataframe\">\n",
       "  <thead>\n",
       "    <tr style=\"text-align: right;\">\n",
       "      <th></th>\n",
       "      <th>Unnamed: 0</th>\n",
       "      <th>Identificador</th>\n",
       "      <th>Nombre</th>\n",
       "      <th>Latitud</th>\n",
       "      <th>Longitud</th>\n",
       "    </tr>\n",
       "  </thead>\n",
       "  <tbody>\n",
       "    <tr>\n",
       "      <th>0</th>\n",
       "      <td>0</td>\n",
       "      <td>Metro Station</td>\n",
       "      <td>Andén Cero</td>\n",
       "      <td>40.432334</td>\n",
       "      <td>-3.697679</td>\n",
       "    </tr>\n",
       "    <tr>\n",
       "      <th>1</th>\n",
       "      <td>1</td>\n",
       "      <td>Metro Station</td>\n",
       "      <td>Metro Sol</td>\n",
       "      <td>40.416882</td>\n",
       "      <td>-3.703038</td>\n",
       "    </tr>\n",
       "    <tr>\n",
       "      <th>2</th>\n",
       "      <td>2</td>\n",
       "      <td>Metro Station</td>\n",
       "      <td>Metro Sevilla</td>\n",
       "      <td>40.417894</td>\n",
       "      <td>-3.699405</td>\n",
       "    </tr>\n",
       "    <tr>\n",
       "      <th>3</th>\n",
       "      <td>3</td>\n",
       "      <td>Metro Station</td>\n",
       "      <td>Metro Embajadores</td>\n",
       "      <td>40.404755</td>\n",
       "      <td>-3.702469</td>\n",
       "    </tr>\n",
       "    <tr>\n",
       "      <th>4</th>\n",
       "      <td>4</td>\n",
       "      <td>Metro Station</td>\n",
       "      <td>Metro Tirso de Molina</td>\n",
       "      <td>40.412386</td>\n",
       "      <td>-3.704968</td>\n",
       "    </tr>\n",
       "    <tr>\n",
       "      <th>...</th>\n",
       "      <td>...</td>\n",
       "      <td>...</td>\n",
       "      <td>...</td>\n",
       "      <td>...</td>\n",
       "      <td>...</td>\n",
       "    </tr>\n",
       "    <tr>\n",
       "      <th>95</th>\n",
       "      <td>95</td>\n",
       "      <td>Metro Station</td>\n",
       "      <td>Metro Alvarado</td>\n",
       "      <td>40.450196</td>\n",
       "      <td>-3.703457</td>\n",
       "    </tr>\n",
       "    <tr>\n",
       "      <th>96</th>\n",
       "      <td>96</td>\n",
       "      <td>Metro Station</td>\n",
       "      <td>Metro Cruz del Rayo</td>\n",
       "      <td>40.446166</td>\n",
       "      <td>-3.678088</td>\n",
       "    </tr>\n",
       "    <tr>\n",
       "      <th>97</th>\n",
       "      <td>97</td>\n",
       "      <td>Metro Station</td>\n",
       "      <td>Metro Vinateros</td>\n",
       "      <td>40.410349</td>\n",
       "      <td>-3.652503</td>\n",
       "    </tr>\n",
       "    <tr>\n",
       "      <th>98</th>\n",
       "      <td>98</td>\n",
       "      <td>Metro Station</td>\n",
       "      <td>Metro Laguna</td>\n",
       "      <td>40.399304</td>\n",
       "      <td>-3.744713</td>\n",
       "    </tr>\n",
       "    <tr>\n",
       "      <th>99</th>\n",
       "      <td>99</td>\n",
       "      <td>Metro Station</td>\n",
       "      <td>Metro Cuzco</td>\n",
       "      <td>40.458368</td>\n",
       "      <td>-3.690266</td>\n",
       "    </tr>\n",
       "  </tbody>\n",
       "</table>\n",
       "<p>100 rows × 5 columns</p>\n",
       "</div>"
      ],
      "text/plain": [
       "    Unnamed: 0  Identificador                 Nombre    Latitud  Longitud\n",
       "0            0  Metro Station             Andén Cero  40.432334 -3.697679\n",
       "1            1  Metro Station              Metro Sol  40.416882 -3.703038\n",
       "2            2  Metro Station          Metro Sevilla  40.417894 -3.699405\n",
       "3            3  Metro Station      Metro Embajadores  40.404755 -3.702469\n",
       "4            4  Metro Station  Metro Tirso de Molina  40.412386 -3.704968\n",
       "..         ...            ...                    ...        ...       ...\n",
       "95          95  Metro Station         Metro Alvarado  40.450196 -3.703457\n",
       "96          96  Metro Station    Metro Cruz del Rayo  40.446166 -3.678088\n",
       "97          97  Metro Station        Metro Vinateros  40.410349 -3.652503\n",
       "98          98  Metro Station           Metro Laguna  40.399304 -3.744713\n",
       "99          99  Metro Station            Metro Cuzco  40.458368 -3.690266\n",
       "\n",
       "[100 rows x 5 columns]"
      ]
     },
     "execution_count": 60,
     "metadata": {},
     "output_type": "execute_result"
    }
   ],
   "source": [
    "dataFrame_creation(\"metrostation\", \"Metro Station\")\n",
    "\n",
    "cv7 = pd.read_csv(\"MetroStation.csv\")\n",
    "\n",
    "cv7"
   ]
  },
  {
   "cell_type": "code",
   "execution_count": null,
   "metadata": {},
   "outputs": [],
   "source": []
  },
  {
   "cell_type": "code",
   "execution_count": null,
   "metadata": {},
   "outputs": [],
   "source": []
  },
  {
   "cell_type": "code",
   "execution_count": null,
   "metadata": {},
   "outputs": [],
   "source": []
  },
  {
   "cell_type": "code",
   "execution_count": null,
   "metadata": {},
   "outputs": [],
   "source": []
  },
  {
   "cell_type": "code",
   "execution_count": null,
   "metadata": {},
   "outputs": [],
   "source": []
  },
  {
   "cell_type": "markdown",
   "metadata": {},
   "source": [
    "# Links importantes\n",
    "\n",
    "## 1. Four Square\n",
    "\n",
    "- Regular API Endpoints: https://developer.foursquare.com/docs/places-api/endpoints/\n",
    "- Realizar llamada a la API: https://developer.foursquare.com/docs/places-api/getting-started/\n",
    "- Categoría de los eventos: https://developer.foursquare.com/docs/build-with-foursquare/categories/\n",
    "\n",
    "## 2. Folium\n",
    "\n",
    "- Documentación 1: https://python-visualization.github.io/folium/\n",
    "- Documentación 2: https://python-visualization.github.io/folium/modules.html\n",
    "- Iconos 1: https://fontawesome.com/v4.7.0/icons/\n",
    "- Iconos 2: https://getbootstrap.com/docs/3.3/components/"
   ]
  },
  {
   "cell_type": "code",
   "execution_count": null,
   "metadata": {},
   "outputs": [],
   "source": []
  }
 ],
 "metadata": {
  "kernelspec": {
   "display_name": "Python 3",
   "language": "python",
   "name": "python3"
  },
  "language_info": {
   "codemirror_mode": {
    "name": "ipython",
    "version": 3
   },
   "file_extension": ".py",
   "mimetype": "text/x-python",
   "name": "python",
   "nbconvert_exporter": "python",
   "pygments_lexer": "ipython3",
   "version": "3.8.3"
  }
 },
 "nbformat": 4,
 "nbformat_minor": 4
}
