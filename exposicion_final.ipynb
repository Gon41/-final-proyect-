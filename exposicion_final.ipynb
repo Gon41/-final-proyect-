{
 "cells": [
  {
   "cell_type": "code",
   "execution_count": 1,
   "metadata": {},
   "outputs": [],
   "source": [
    "from funciones_FINAL import airbnb_final\n",
    "\n",
    "import pandas as pd"
   ]
  },
  {
   "cell_type": "markdown",
   "metadata": {},
   "source": [
    "## 1. Descripción\n",
    "\n",
    "   - Eres una persona que viene a visitar Madrid. \n",
    "\n",
    "\n",
    "- Como no conoces la ciudad decides utilizar la aplicación. \n",
    "\n",
    "\n",
    "- La aplicación va a mostrate un mapa con los elementos cercanos cerca del lugar donde te vas a alojar."
   ]
  },
  {
   "cell_type": "markdown",
   "metadata": {},
   "source": [
    "### La ciudad de Madrid se compone de 21 distritos y 131 barrios"
   ]
  },
  {
   "cell_type": "markdown",
   "metadata": {},
   "source": [
    "<img src=\"../-final-proyect-/mapa_punto.jpg\">"
   ]
  },
  {
   "cell_type": "markdown",
   "metadata": {},
   "source": [
    "## 2. ¿Cuál debo elegir?\n",
    "\n",
    "- Ejecuta la siguiente función\n",
    "\n",
    "- Introduce los parámetros que te pide la aplicación según tus preferencias\n",
    "\n",
    "- Elige el alojamiento que prefieras y visualiza que tienes alrededor\n",
    "\n",
    "- ¡Disfruta de Madrid!"
   ]
  },
  {
   "cell_type": "code",
   "execution_count": null,
   "metadata": {},
   "outputs": [],
   "source": [
    "airbnb_final()"
   ]
  },
  {
   "cell_type": "code",
   "execution_count": null,
   "metadata": {},
   "outputs": [],
   "source": []
  }
 ],
 "metadata": {
  "kernelspec": {
   "display_name": "Python 3",
   "language": "python",
   "name": "python3"
  },
  "language_info": {
   "codemirror_mode": {
    "name": "ipython",
    "version": 3
   },
   "file_extension": ".py",
   "mimetype": "text/x-python",
   "name": "python",
   "nbconvert_exporter": "python",
   "pygments_lexer": "ipython3",
   "version": "3.8.3"
  }
 },
 "nbformat": 4,
 "nbformat_minor": 4
}
